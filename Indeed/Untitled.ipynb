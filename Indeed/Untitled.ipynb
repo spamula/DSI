{
 "cells": [
  {
   "cell_type": "code",
   "execution_count": 1224,
   "metadata": {
    "collapsed": false
   },
   "outputs": [
    {
     "name": "stderr",
     "output_type": "stream",
     "text": [
      "//anaconda/lib/python2.7/site-packages/sklearn/cross_validation.py:44: DeprecationWarning: This module was deprecated in version 0.18 in favor of the model_selection module into which all the refactored classes and functions are moved. Also note that the interface of the new CV iterators are different from that of this module. This module will be removed in 0.20.\n",
      "  \"This module will be removed in 0.20.\", DeprecationWarning)\n"
     ]
    }
   ],
   "source": [
    "import requests\n",
    "import bs4\n",
    "from bs4 import BeautifulSoup\n",
    "import pandas as pd\n",
    "import numpy as np\n",
    "import matplotlib.pyplot as plt\n",
    "import seaborn as sns\n",
    "import re\n",
    "import pandas as pd\n",
    "import statsmodels.api as sm\n",
    "import numpy as np\n",
    "import matplotlib as plt\n",
    "from sklearn.linear_model import LogisticRegression\n",
    "from sklearn.metrics import confusion_matrix\n",
    "from sklearn.metrics import accuracy_score\n",
    "from sklearn.metrics import classification_report\n",
    "from sklearn.cross_validation import train_test_split, cross_val_score, cross_val_predict\n",
    "%matplotlib inline"
   ]
  },
  {
   "cell_type": "code",
   "execution_count": 1226,
   "metadata": {
    "collapsed": true
   },
   "outputs": [],
   "source": [
    "URL = \"https://www.indeed.com/jobs?q=data+scientist+salary&l=New+York\""
   ]
  },
  {
   "cell_type": "code",
   "execution_count": 1234,
   "metadata": {
    "collapsed": false
   },
   "outputs": [],
   "source": [
    "response = requests.get(URL)\n",
    "html = response.text\n",
    "soup = BeautifulSoup(html, 'html.parser', from_encoding=\"utf-8\")"
   ]
  },
  {
   "cell_type": "code",
   "execution_count": 1236,
   "metadata": {
    "collapsed": true
   },
   "outputs": [],
   "source": [
    "## YOUR CODE HERE\n",
    "def get_co(cos):\n",
    "    company = \"\"\n",
    "    for entry in cos:\n",
    "        if entry != (\"\" or None):\n",
    "            try:\n",
    "                company = str(entry.find(\"span\",{\"itemprop\":\"name\"}).text).lstrip()\n",
    "            except:\n",
    "                company = \"No Company Listed\"\n",
    "        else:\n",
    "            company = \"No Company Listed\"\n",
    "    return company"
   ]
  },
  {
   "cell_type": "code",
   "execution_count": 1237,
   "metadata": {
    "collapsed": false
   },
   "outputs": [
    {
     "data": {
      "text/plain": [
       "'Analytic Partners'"
      ]
     },
     "execution_count": 1237,
     "metadata": {},
     "output_type": "execute_result"
    }
   ],
   "source": [
    "get_co(soup.find_all(\"span\", {\"class\": \"company\"}))"
   ]
  },
  {
   "cell_type": "code",
   "execution_count": 1229,
   "metadata": {
    "collapsed": true
   },
   "outputs": [],
   "source": [
    "def get_salary(salaries):\n",
    "    for entry in salaries:\n",
    "        if entry != (\"\" or None):\n",
    "            try:\n",
    "                salary = str(entry.find(\"nobr\").text)\n",
    "            except:\n",
    "                salary = \"No Salary Listed\"\n",
    "        else:\n",
    "            salary = \"No Salary Listed\"\n",
    "    return salary"
   ]
  },
  {
   "cell_type": "code",
   "execution_count": 1230,
   "metadata": {
    "collapsed": true
   },
   "outputs": [],
   "source": [
    "def get_jobtitle(titles):\n",
    "    for entry in titles:\n",
    "        if entry != (\"\" or None):\n",
    "            try:\n",
    "                jobtitle = str(entry.text)\n",
    "            except:\n",
    "                jobtitle = \"No Job Title Listed\"\n",
    "        else:\n",
    "            jobtitle = \"No Job Title Listed\"\n",
    "    return jobtitle"
   ]
  },
  {
   "cell_type": "code",
   "execution_count": 1231,
   "metadata": {
    "collapsed": true
   },
   "outputs": [],
   "source": [
    "def get_location(locations):\n",
    "    for entry in locations:\n",
    "        if entry != (\"\" or None):\n",
    "            try:\n",
    "                location = str(entry.text)\n",
    "            except:\n",
    "                location = \"No Location Listed\"\n",
    "        else:\n",
    "            location = \"No Location Listed\"\n",
    "    return location"
   ]
  },
  {
   "cell_type": "code",
   "execution_count": 1232,
   "metadata": {
    "collapsed": true
   },
   "outputs": [],
   "source": [
    "YOUR_CITY = 'Raleigh'"
   ]
  },
  {
   "cell_type": "code",
   "execution_count": null,
   "metadata": {
    "collapsed": true
   },
   "outputs": [],
   "source": [
    "url_template = \"http://www.indeed.com/jobs?q=data+scientist+%2420000&l={}&start={}\"\n",
    "max_results_per_city = 2500 # Set this to a high-value (5000) to generate more results. \n",
    "# Crawling more results, will also take much longer. First test your code on a small number of results and then expand.\n",
    "\n",
    "results = []\n",
    "\n",
    "for city in set(['New+York', 'Chicago', 'San+Francisco', 'Austin', 'Seattle', \n",
    "    'Los+Angeles', 'Philadelphia', 'Atlanta', 'Dallas', 'Pittsburgh', \n",
    "    'Portland', 'Phoenix', 'Denver', 'Houston', 'Miami', YOUR_CITY]):\n",
    "        for start in range(0, max_results_per_city, 10):\n",
    "            url = \"http://www.indeed.com/jobs?q=data+scientist+%24220000&l=\"+str(city)+\"&start=\"+str(start)\n",
    "            response = requests.get(url)\n",
    "            html = response.text\n",
    "            results.append(html)\n",
    "        # Grab the results from the request (as above)\n",
    "        # Append to the full set of results\n",
    "        pass"
   ]
  },
  {
   "cell_type": "code",
   "execution_count": 1239,
   "metadata": {
    "collapsed": true
   },
   "outputs": [],
   "source": [
    "r_20 = ''.join(results) #Rerunning for each scrape."
   ]
  },
  {
   "cell_type": "code",
   "execution_count": 1240,
   "metadata": {
    "collapsed": true
   },
   "outputs": [],
   "source": [
    "soup_20 = BeautifulSoup(r_20, 'html.parser', from_encoding=\"utf-8\") #Reran this with each different "
   ]
  },
  {
   "cell_type": "code",
   "execution_count": 1241,
   "metadata": {
    "collapsed": true
   },
   "outputs": [],
   "source": [
    "ds20 = pd.DataFrame(columns=[\"location\",\"title\",\"company\",\"salary\"]) "
   ]
  },
  {
   "cell_type": "code",
   "execution_count": 1242,
   "metadata": {
    "collapsed": true
   },
   "outputs": [],
   "source": [
    "for row in soup_20.find_all(\"div\", {\"class\": \" row result\"}): #Searches through each of the row results.\n",
    "    loc = get_location(row.find_all(\"span\", {\"class\":\"location\"}))\n",
    "    jt = get_jobtitle(row.find_all(\"a\", {\"class\":\"turnstileLink\"}))\n",
    "    co = get_co(row.find_all(\"span\", {\"class\": \"company\"}))\n",
    "    sal = get_salary(row.find_all(\"td\",{\"class\":\"snip\"}))\n",
    "    ds20.loc[len(ds20)]=[loc, jt, co, sal] #Make a new record in the above created dataframes with the results parsed."
   ]
  },
  {
   "cell_type": "code",
   "execution_count": 1243,
   "metadata": {
    "collapsed": false
   },
   "outputs": [
    {
     "data": {
      "text/html": [
       "<div>\n",
       "<table border=\"1\" class=\"dataframe\">\n",
       "  <thead>\n",
       "    <tr style=\"text-align: right;\">\n",
       "      <th></th>\n",
       "      <th>location</th>\n",
       "      <th>title</th>\n",
       "      <th>company</th>\n",
       "      <th>salary</th>\n",
       "    </tr>\n",
       "  </thead>\n",
       "  <tbody>\n",
       "    <tr>\n",
       "      <th>0</th>\n",
       "      <td>San Francisco, CA</td>\n",
       "      <td>Lead Data Scientist - Engagement &amp; Growth</td>\n",
       "      <td>Harnham</td>\n",
       "      <td>$220,000 a year</td>\n",
       "    </tr>\n",
       "    <tr>\n",
       "      <th>1</th>\n",
       "      <td>San Francisco, CA</td>\n",
       "      <td>Director of Data Science</td>\n",
       "      <td>Harnham</td>\n",
       "      <td>$230,000 a year</td>\n",
       "    </tr>\n",
       "    <tr>\n",
       "      <th>2</th>\n",
       "      <td>Berkeley, CA 94705</td>\n",
       "      <td>Sr Data Scientist/Solution Architect</td>\n",
       "      <td>Redfish Technology</td>\n",
       "      <td>$250,000 a year</td>\n",
       "    </tr>\n",
       "    <tr>\n",
       "      <th>3</th>\n",
       "      <td>San Francisco, CA</td>\n",
       "      <td>Head of Data Science</td>\n",
       "      <td>Harnham</td>\n",
       "      <td>$225,000 a year</td>\n",
       "    </tr>\n",
       "    <tr>\n",
       "      <th>4</th>\n",
       "      <td>San Mateo, CA</td>\n",
       "      <td>Senior Data Scientist (Contract)</td>\n",
       "      <td>Workbridge Associates</td>\n",
       "      <td>$130 an hour</td>\n",
       "    </tr>\n",
       "    <tr>\n",
       "      <th>5</th>\n",
       "      <td>New York, NY</td>\n",
       "      <td>Chief Data Scientist - Consulting</td>\n",
       "      <td>Harnham</td>\n",
       "      <td>$220,000 a year</td>\n",
       "    </tr>\n",
       "    <tr>\n",
       "      <th>6</th>\n",
       "      <td>New York, NY</td>\n",
       "      <td>Machine Learning Engineer - NLP - Java - Pytho...</td>\n",
       "      <td>Darwin Recruitment</td>\n",
       "      <td>$120 - $140 an hour</td>\n",
       "    </tr>\n",
       "    <tr>\n",
       "      <th>7</th>\n",
       "      <td>New York, NY 10150 (Midtown area)</td>\n",
       "      <td>Skilled Java Specialists - NYC</td>\n",
       "      <td>Twenty Recruitment</td>\n",
       "      <td>$120 an hour</td>\n",
       "    </tr>\n",
       "    <tr>\n",
       "      <th>8</th>\n",
       "      <td>Philadelphia, PA</td>\n",
       "      <td>Data Scientist</td>\n",
       "      <td>ACROSTAFF</td>\n",
       "      <td>$120 an hour</td>\n",
       "    </tr>\n",
       "  </tbody>\n",
       "</table>\n",
       "</div>"
      ],
      "text/plain": [
       "                            location  \\\n",
       "0                  San Francisco, CA   \n",
       "1                  San Francisco, CA   \n",
       "2                 Berkeley, CA 94705   \n",
       "3                  San Francisco, CA   \n",
       "4                      San Mateo, CA   \n",
       "5                       New York, NY   \n",
       "6                       New York, NY   \n",
       "7  New York, NY 10150 (Midtown area)   \n",
       "8                   Philadelphia, PA   \n",
       "\n",
       "                                               title                company  \\\n",
       "0          Lead Data Scientist - Engagement & Growth                Harnham   \n",
       "1                           Director of Data Science                Harnham   \n",
       "2               Sr Data Scientist/Solution Architect     Redfish Technology   \n",
       "3                               Head of Data Science                Harnham   \n",
       "4                   Senior Data Scientist (Contract)  Workbridge Associates   \n",
       "5                  Chief Data Scientist - Consulting                Harnham   \n",
       "6  Machine Learning Engineer - NLP - Java - Pytho...     Darwin Recruitment   \n",
       "7                     Skilled Java Specialists - NYC     Twenty Recruitment   \n",
       "8                                     Data Scientist              ACROSTAFF   \n",
       "\n",
       "                salary  \n",
       "0      $220,000 a year  \n",
       "1      $230,000 a year  \n",
       "2      $250,000 a year  \n",
       "3      $225,000 a year  \n",
       "4         $130 an hour  \n",
       "5      $220,000 a year  \n",
       "6  $120 - $140 an hour  \n",
       "7         $120 an hour  \n",
       "8         $120 an hour  "
      ]
     },
     "execution_count": 1243,
     "metadata": {},
     "output_type": "execute_result"
    }
   ],
   "source": [
    "ds20"
   ]
  },
  {
   "cell_type": "code",
   "execution_count": null,
   "metadata": {
    "collapsed": true
   },
   "outputs": [],
   "source": []
  }
 ],
 "metadata": {
  "kernelspec": {
   "display_name": "Python [default]",
   "language": "python",
   "name": "python2"
  },
  "language_info": {
   "codemirror_mode": {
    "name": "ipython",
    "version": 2
   },
   "file_extension": ".py",
   "mimetype": "text/x-python",
   "name": "python",
   "nbconvert_exporter": "python",
   "pygments_lexer": "ipython2",
   "version": "2.7.13"
  }
 },
 "nbformat": 4,
 "nbformat_minor": 2
}
